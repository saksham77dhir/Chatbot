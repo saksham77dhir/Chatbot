{
  "cells": [
    {
      "cell_type": "markdown",
      "id": "81f1b594",
      "metadata": {
        "id": "81f1b594"
      },
      "source": [
        "# English-to-French Translation Chatbot (Hugging Face)\n",
        "\n",
        "This notebook builds a simple interactive chatbot that translates English to French using a pre-trained model from Hugging Face.\n",
        "It includes setup, translation functions, a typing effect for real-time feel, and a chatbot loop.\n",
        "\n",
        "> Model: `Helsinki-NLP/opus-mt-en-fr` (lightweight and fast for demos)\n"
      ]
    },
    {
      "cell_type": "markdown",
      "id": "34b6a72d",
      "metadata": {
        "id": "34b6a72d"
      },
      "source": [
        "## 1. Setup\n",
        "\n",
        "Install and import the required libraries.\n"
      ]
    },
    {
      "cell_type": "code",
      "source": [
        "!pip install -q -U torch==2.8.0 torchvision==0.23.0 torchaudio==2.8.0 transformers==4.43.3 sentencepiece\n"
      ],
      "metadata": {
        "id": "b15UHdDnXZ_N"
      },
      "id": "b15UHdDnXZ_N",
      "execution_count": 7,
      "outputs": []
    },
    {
      "cell_type": "code",
      "execution_count": 8,
      "id": "9c8e84a0",
      "metadata": {
        "id": "9c8e84a0"
      },
      "outputs": [],
      "source": [
        "import time\n",
        "from typing import List\n",
        "from transformers import AutoTokenizer, AutoModelForSeq2SeqLM, pipeline"
      ]
    },
    {
      "cell_type": "markdown",
      "id": "f72bdbbe",
      "metadata": {
        "id": "f72bdbbe"
      },
      "source": [
        "## 2. Load Model & Tokenizer\n",
        "\n",
        "We'll use a compact, high-quality MarianMT model for English→French translation.\n"
      ]
    },
    {
      "cell_type": "code",
      "execution_count": 9,
      "id": "c4f0a7a4",
      "metadata": {
        "id": "c4f0a7a4",
        "colab": {
          "base_uri": "https://localhost:8080/"
        },
        "outputId": "32f3c845-f24c-438a-8f8b-b21d48ab3f0d"
      },
      "outputs": [
        {
          "output_type": "stream",
          "name": "stdout",
          "text": [
            "Model loaded ✅\n"
          ]
        }
      ],
      "source": [
        "MODEL_NAME = \"Helsinki-NLP/opus-mt-en-fr\"\n",
        "\n",
        "tokenizer = AutoTokenizer.from_pretrained(MODEL_NAME)\n",
        "model = AutoModelForSeq2SeqLM.from_pretrained(MODEL_NAME)\n",
        "translator = pipeline(\"translation\", model=model, tokenizer=tokenizer, src_lang=\"en\", tgt_lang=\"fr\")\n",
        "print(\"Model loaded ✅\")\n"
      ]
    },
    {
      "cell_type": "markdown",
      "id": "55a6c3a3",
      "metadata": {
        "id": "55a6c3a3"
      },
      "source": [
        "## 3. Translation Utilities\n",
        "\n",
        "- `translate_text(text)`: returns the French translation string\n",
        "- `stream_typing(text, delay)`: prints characters one-by-one to simulate a typing effect\n"
      ]
    },
    {
      "cell_type": "code",
      "execution_count": 10,
      "id": "aa99ee78",
      "metadata": {
        "id": "aa99ee78"
      },
      "outputs": [],
      "source": [
        "def translate_text(text: str) -> str:\n",
        "    if not text or not text.strip():\n",
        "        return \"\"\n",
        "    out = translator(text)[0][\"translation_text\"]\n",
        "    return out\n",
        "\n",
        "def stream_typing(text: str, delay: float = 0.03):\n",
        "    \"\"\"Simulate a typing effect for a more 'chatty' experience.\"\"\"\n",
        "    for ch in text:\n",
        "        print(ch, end=\"\", flush=True)\n",
        "        time.sleep(delay)\n",
        "    print()\n"
      ]
    },
    {
      "cell_type": "markdown",
      "id": "66884def",
      "metadata": {
        "id": "66884def"
      },
      "source": [
        "## 4. Quick Test"
      ]
    },
    {
      "cell_type": "code",
      "execution_count": 11,
      "id": "15f2dc3f",
      "metadata": {
        "id": "15f2dc3f",
        "colab": {
          "base_uri": "https://localhost:8080/"
        },
        "outputId": "6621334a-12e5-4a5a-9701-4bc73e47f31e"
      },
      "outputs": [
        {
          "output_type": "stream",
          "name": "stdout",
          "text": [
            "EN: Hello, world! How are you today?\n",
            "FR: Comment allez-vous aujourd'hui ?\n"
          ]
        }
      ],
      "source": [
        "english = \"Hello, world! How are you today?\"\n",
        "fr = translate_text(english)\n",
        "print(\"EN:\", english)\n",
        "print(\"FR:\", fr)\n"
      ]
    },
    {
      "cell_type": "markdown",
      "id": "314a0c04",
      "metadata": {
        "id": "314a0c04"
      },
      "source": [
        "## 5. Chatbot Loop (Interactive)\n",
        "\n",
        "Type an English sentence and the bot will print the French translation with a typing effect.  \n",
        "Enter `exit`, `quit`, or `q` to stop.\n"
      ]
    },
    {
      "cell_type": "code",
      "execution_count": 12,
      "id": "2342736b",
      "metadata": {
        "id": "2342736b",
        "colab": {
          "base_uri": "https://localhost:8080/"
        },
        "outputId": "29e98454-6aa2-4212-e15f-cb09059296c8"
      },
      "outputs": [
        {
          "output_type": "stream",
          "name": "stdout",
          "text": [
            "Bienvenue! (Type 'exit' to stop)\n",
            "\n",
            "You (EN): my name is saksham\n",
            "Bot (FR): Mon nom est Saksham.\n",
            "\n",
            "You (EN): you are amazing\n",
            "Bot (FR): Tu es incroyable.\n",
            "\n",
            "You (EN): quit\n",
            "Goodbye! 👋\n"
          ]
        }
      ],
      "source": [
        "def chat():\n",
        "    print(\"Bienvenue! (Type 'exit' to stop)\")\n",
        "    while True:\n",
        "        try:\n",
        "            user_in = input(\"\\nYou (EN): \").strip()\n",
        "        except (EOFError, KeyboardInterrupt):\n",
        "            print(\"\\nGoodbye! 👋\")\n",
        "            break\n",
        "        if user_in.lower() in {\"exit\", \"quit\", \"q\"}:\n",
        "            print(\"Goodbye! 👋\")\n",
        "            break\n",
        "        if not user_in:\n",
        "            continue\n",
        "        fr = translate_text(user_in)\n",
        "        print(\"Bot (FR): \", end=\"\")\n",
        "        stream_typing(fr, delay=0.02)\n",
        "\n",
        "chat()\n"
      ]
    }
  ],
  "metadata": {
    "colab": {
      "provenance": []
    },
    "language_info": {
      "name": "python"
    },
    "kernelspec": {
      "name": "python3",
      "display_name": "Python 3"
    }
  },
  "nbformat": 4,
  "nbformat_minor": 5
}